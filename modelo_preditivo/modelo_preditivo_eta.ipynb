{
  "cells": [
    {
      "cell_type": "markdown",
      "metadata": {},
      "source": [
        "# Modelo Preditivo - Tempo de Entrega (ETA)\n",
        "Notebook para criar modelo preditivo que melhore a estimativa de tempo de entrega.\n",
        "\n",
        "**Objetivo:** Melhorar a precisão da estimativa de tempo de entrega (`eta_minutes_quote`) apenas para pedidos dos canais próprios (site_proprio + whatsapp).\n",
        "\n",
        "**Metodologia:** Divisão train/test dupla, cross-validation e comparação de 5 modelos usando RMSE.\n"
      ]
    },
    {
      "cell_type": "markdown",
      "metadata": {},
      "source": [
        "## 1. Setup e Imports\n"
      ]
    },
    {
      "cell_type": "code",
      "execution_count": 258,
      "metadata": {},
      "outputs": [
        {
          "name": "stdout",
          "output_type": "stream",
          "text": [
            "Bibliotecas importadas com sucesso!\n"
          ]
        }
      ],
      "source": [
        "import pandas as pd\n",
        "import numpy as np\n",
        "import matplotlib.pyplot as plt\n",
        "import seaborn as sns\n",
        "from sklearn.model_selection import train_test_split, cross_val_score, KFold\n",
        "from sklearn.preprocessing import OneHotEncoder\n",
        "from sklearn.dummy import DummyRegressor\n",
        "from sklearn.linear_model import LinearRegression\n",
        "from sklearn.tree import DecisionTreeRegressor\n",
        "from sklearn.ensemble import RandomForestRegressor\n",
        "from sklearn.metrics import mean_squared_error, mean_absolute_error, r2_score\n",
        "import xgboost as xgb\n",
        "import warnings\n",
        "warnings.filterwarnings('ignore')\n",
        "\n",
        "# Configurações visuais\n",
        "plt.rcParams[\"figure.figsize\"] = (12, 8)\n",
        "plt.rcParams[\"axes.grid\"] = True\n",
        "plt.rcParams[\"font.size\"] = 10\n",
        "\n",
        "print(\"Bibliotecas importadas com sucesso!\")\n"
      ]
    },
    {
      "cell_type": "markdown",
      "metadata": {},
      "source": [
        "## 2. Carregamento dos Dados\n"
      ]
    },
    {
      "cell_type": "code",
      "execution_count": 259,
      "metadata": {},
      "outputs": [
        {
          "name": "stdout",
          "output_type": "stream",
          "text": [
            "Dados carregados:\n",
            "   • Total de registros: 5,000\n",
            "   • Colunas: 16\n",
            "   • Valores nulos: 0\n",
            "\n",
            "Colunas disponíveis:\n",
            "['macro_bairro', 'nome_cliente', 'bairro_destino', 'order_datetime', 'platform', 'order_mode', 'distance_km', 'tempo_preparo_minutos', 'status', 'eta_minutes_quote', 'actual_delivery_minutes', 'total_brl', 'classe_pedido', 'platform_commission_pct', 'num_itens', 'satisfacao_nivel']\n"
          ]
        }
      ],
      "source": [
        "# Carregar dados limpos\n",
        "df = pd.read_csv(\"../tratamento_inicial/Base_Kaiserhaus_Limpa.csv\")\n",
        "\n",
        "print(\"Dados carregados:\")\n",
        "print(f\"   • Total de registros: {len(df):,}\")\n",
        "print(f\"   • Colunas: {df.shape[1]}\")\n",
        "print(f\"   • Valores nulos: {df.isnull().sum().sum()}\")\n",
        "\n",
        "print(\"\\nColunas disponíveis:\")\n",
        "print(list(df.columns))\n"
      ]
    },
    {
      "cell_type": "markdown",
      "metadata": {},
      "source": [
        "## 3. Filtro para Canais Próprios\n"
      ]
    },
    {
      "cell_type": "code",
      "execution_count": 260,
      "metadata": {},
      "outputs": [],
      "source": [
        "# Filtrar apenas canais próprios\n",
        "df_canais_proprios = df.copy()\n",
        "\n"
      ]
    },
    {
      "cell_type": "markdown",
      "metadata": {},
      "source": [
        "## 4. Feature Engineering e One-Hot Encoding\n"
      ]
    },
    {
      "cell_type": "code",
      "execution_count": 261,
      "metadata": {},
      "outputs": [
        {
          "name": "stdout",
          "output_type": "stream",
          "text": [
            "FEATURE ENGINEERING COMPLETO\n",
            "==================================================\n",
            "Arquivo: 'base_modelo_preditivo_eta.csv'\n",
            "Total de registros: 5,000\n",
            "Colunas: 12\n",
            "Features categóricas criadas: 8\n",
            "\n",
            "Distribuição por período do dia:\n",
            "   • Tarde: 1,897 pedidos (37.9%)\n",
            "   • Noite: 1,569 pedidos (31.4%)\n",
            "   • Manhã: 1,399 pedidos (28.0%)\n",
            "   • Madrugada: 135 pedidos (2.7%)\n"
          ]
        }
      ],
      "source": [
        "# Função para obter período do dia\n",
        "def obter_periodo_dia(hora):\n",
        "    if 0 <= hora < 6:\n",
        "        return 'Madrugada'\n",
        "    elif 6 <= hora < 12:\n",
        "        return 'Manhã'\n",
        "    elif 12 <= hora < 18:\n",
        "        return 'Tarde'\n",
        "    else:\n",
        "        return 'Noite'\n",
        "\n",
        "# Criar período do dia diretamente no DataFrame\n",
        "df_canais_proprios['periodo_dia'] = pd.to_datetime(df_canais_proprios['order_datetime']).dt.hour.apply(obter_periodo_dia)\n",
        "\n",
        "# Selecionar features\n",
        "features_numericas = ['distance_km', 'tempo_preparo_minutos', 'num_itens']\n",
        "features_categoricas = ['periodo_dia', 'platform']\n",
        "target = 'actual_delivery_minutes'\n",
        "\n",
        "# Criar DataFrames separados\n",
        "X_numericas = df_canais_proprios[features_numericas].copy()\n",
        "X_categoricas = df_canais_proprios[features_categoricas].copy()\n",
        "y = df_canais_proprios[target].copy()\n",
        "\n",
        "# Aplicar One-Hot Encoding nas colunas categóricas SEM remover nenhuma categoria\n",
        "encoder = OneHotEncoder(sparse_output=False, drop=None)\n",
        "X_categoricas_encoded = encoder.fit_transform(X_categoricas)\n",
        "\n",
        "# Criar DataFrame com nomes das colunas\n",
        "feature_names = encoder.get_feature_names_out(features_categoricas)\n",
        "X_categoricas_df = pd.DataFrame(X_categoricas_encoded, columns=feature_names, index=X_categoricas.index)\n",
        "\n",
        "# Combinar features numéricas e categóricas\n",
        "X_final = pd.concat([X_numericas, X_categoricas_df], axis=1)\n",
        "\n",
        "# Salvar base com One-Hot Encoding aplicado\n",
        "df_base_final = pd.concat([df_canais_proprios[features_numericas + ['actual_delivery_minutes']], X_categoricas_df], axis=1)\n",
        "df_base_final.to_csv(\"base_modelo_preditivo_eta.csv\", index=False)\n",
        "\n",
        "print(\"FEATURE ENGINEERING COMPLETO\")\n",
        "print(\"=\" * 50)\n",
        "print(\"Arquivo: 'base_modelo_preditivo_eta.csv'\")\n",
        "print(f\"Total de registros: {len(df_base_final):,}\")\n",
        "print(f\"Colunas: {df_base_final.shape[1]}\")\n",
        "print(f\"Features categóricas criadas: {len(feature_names)}\")\n",
        "\n",
        "print(\"\\nDistribuição por período do dia:\")\n",
        "distribuicao_periodo = df_canais_proprios['periodo_dia'].value_counts()\n",
        "for periodo, count in distribuicao_periodo.items():\n",
        "    pct = count / len(df_canais_proprios) * 100\n",
        "    print(f\"   • {periodo}: {count:,} pedidos ({pct:.1f}%)\")\n",
        "\n"
      ]
    },
    {
      "cell_type": "markdown",
      "metadata": {},
      "source": [
        "## 5. Divisão Train/Test Dupla e Modelos\n"
      ]
    },
    {
      "cell_type": "code",
      "execution_count": 262,
      "metadata": {},
      "outputs": [
        {
          "name": "stdout",
          "output_type": "stream",
          "text": [
            "RESULTADOS DE TREINO E TESTE (RMSE)\n",
            "=======================================================\n",
            "Dummy Regressor (Mean)    → RMSE Treino = 12.632 | RMSE Teste = 12.739\n",
            "Linear Regression (Pipeline) → RMSE Treino = 5.508 | RMSE Teste = 5.525\n",
            "Decision Tree (Default)   → RMSE Treino = 0.498 | RMSE Teste = 7.571\n",
            "Decision Tree (Pruned)    → RMSE Treino = 5.019 | RMSE Teste = 6.031\n",
            "Decision Tree (Deep)      → RMSE Treino = 3.155 | RMSE Teste = 7.083\n",
            "Random Forest (100)       → RMSE Treino = 4.565 | RMSE Teste = 5.753\n",
            "Random Forest (200)       → RMSE Treino = 4.560 | RMSE Teste = 5.749\n",
            "Random Forest (500)       → RMSE Treino = 4.559 | RMSE Teste = 5.745\n"
          ]
        }
      ],
      "source": [
        "from sklearn.model_selection import train_test_split, cross_val_score\n",
        "from sklearn.metrics import mean_squared_error\n",
        "import numpy as np\n",
        "\n",
        "# 1️⃣ Split único (80/20)\n",
        "X_train, X_test, y_train, y_test = train_test_split(\n",
        "    X_final, y, test_size=0.2, random_state=42, shuffle=True\n",
        ")\n",
        "\n",
        "# 2️⃣ Definir modelos\n",
        "from sklearn.pipeline import Pipeline\n",
        "from sklearn.preprocessing import StandardScaler, PolynomialFeatures\n",
        "from sklearn.linear_model import LinearRegression\n",
        "from sklearn.dummy import DummyRegressor\n",
        "from sklearn.ensemble import RandomForestRegressor\n",
        "\n",
        "modelos = {\n",
        "    # Dummy Regressor - variações\n",
        "    'Dummy Regressor (Mean)': DummyRegressor(strategy='mean'),\n",
        "    \n",
        "    # Linear Regression - variações\n",
        "    'Linear Regression (Pipeline)': Pipeline([\n",
        "        ('scaler', StandardScaler()),\n",
        "        ('regressor', LinearRegression())\n",
        "    ]),\n",
        "    \n",
        "    # Decision Tree - variações\n",
        "    'Decision Tree (Default)': DecisionTreeRegressor(random_state=42),\n",
        "    'Decision Tree (Pruned)': DecisionTreeRegressor(\n",
        "        max_depth=10, \n",
        "        min_samples_split=20, \n",
        "        min_samples_leaf=10, \n",
        "        random_state=42\n",
        "    ),\n",
        "    'Decision Tree (Deep)': DecisionTreeRegressor(\n",
        "        max_depth=15, \n",
        "        min_samples_split=5, \n",
        "        min_samples_leaf=2, \n",
        "        random_state=42\n",
        "    ),\n",
        "    \n",
        "    # Random Forest - variações\n",
        "    'Random Forest (100)': RandomForestRegressor(\n",
        "        n_estimators=100,\n",
        "        max_depth=10,\n",
        "        min_samples_split=10,\n",
        "        min_samples_leaf=5,\n",
        "        random_state=42\n",
        "    ),\n",
        "    'Random Forest (200)': RandomForestRegressor(\n",
        "        n_estimators=200,\n",
        "        max_depth=10,\n",
        "        min_samples_split=10,\n",
        "        min_samples_leaf=5,\n",
        "        random_state=42\n",
        "    ),\n",
        "    'Random Forest (500)': RandomForestRegressor(\n",
        "        n_estimators=500,\n",
        "        max_depth=10,\n",
        "        min_samples_split=10,\n",
        "        min_samples_leaf=5,\n",
        "        random_state=42\n",
        "    ),\n",
        "     \n",
        "    \n",
        "}\n",
        "\n",
        "# 3️⃣ Avaliar cada modelo com RMSE de treino e teste\n",
        "resultados = {}\n",
        "\n",
        "print(\"RESULTADOS DE TREINO E TESTE (RMSE)\")\n",
        "print(\"=\" * 55)\n",
        "\n",
        "for nome, modelo in modelos.items():\n",
        "    modelo.fit(X_train, y_train)\n",
        "    \n",
        "    # Previsões\n",
        "    y_pred_train = modelo.predict(X_train)\n",
        "    y_pred_test = modelo.predict(X_test)\n",
        "    \n",
        "    # Cálculo de RMSE\n",
        "    rmse_train = np.sqrt(mean_squared_error(y_train, y_pred_train))\n",
        "    rmse_test = np.sqrt(mean_squared_error(y_test, y_pred_test))\n",
        "    \n",
        "    resultados[nome] = {\n",
        "        'RMSE Treino': rmse_train,\n",
        "        'RMSE Teste': rmse_test,\n",
        "    }\n",
        "    \n",
        "    print(f\"{nome:25s} → RMSE Treino = {rmse_train:.3f} | RMSE Teste = {rmse_test:.3f}\")\n",
        "\n"
      ]
    },
    {
      "cell_type": "markdown",
      "metadata": {},
      "source": []
    },
    {
      "cell_type": "code",
      "execution_count": 263,
      "metadata": {},
      "outputs": [
        {
          "name": "stdout",
          "output_type": "stream",
          "text": [
            " COMPARAÇÃO ETA ANTIGO vs NOVO vs ACTUAL\n",
            "============================================================\n",
            "\n",
            " ESTATÍSTICAS GERAIS:\n",
            "   • RMSE ETA Antigo: 12.179\n",
            "   • RMSE ETA Novo: 4.598\n",
            "   • Melhoria: 62.2%\n",
            "\n",
            " EXEMPLOS DE MELHORIA:\n",
            "Pedido   ETA Antigo   ETA Novo     Actual       Erro Antigo  Erro Novo   \n",
            "--------------------------------------------------------------------------------\n",
            "1.0      50.0         63.2         62.4         12.4         0.8         \n",
            "2.0      45.0         37.4         35.6         9.4          1.8         \n",
            "3.0      43.0         32.1         34.5         8.5          2.4         \n",
            "4.0      19.0         12.0         14.4         4.6          2.4         \n",
            "6.0      44.0         35.1         33.5         10.5         1.6         \n",
            "8.0      40.0         31.7         34.5         5.5          2.8         \n",
            "9.0      29.0         21.0         19.9         9.1          1.1         \n",
            "11.0     29.0         12.7         7.2          21.8         5.5         \n",
            "12.0     47.0         41.4         38.2         8.8          3.2         \n",
            "13.0     49.0         29.5         30.6         18.4         1.1         \n",
            "\n",
            " EXEMPLOS DE PIORA:\n",
            "Pedido   ETA Antigo   ETA Novo     Actual       Erro Antigo  Erro Novo   \n",
            "--------------------------------------------------------------------------------\n",
            "5.0      28.0         29.1         26.6         1.4          2.5         \n",
            "7.0      44.0         28.9         36.5         7.5          7.6         \n",
            "10.0     47.0         46.8         48.6         1.6          1.8         \n",
            "20.0     47.0         50.9         46.6         0.4          4.3         \n",
            "21.0     42.0         36.6         42.0         0.0          5.4         \n",
            "32.0     34.0         31.4         38.0         4.0          6.6         \n",
            "38.0     21.0         12.3         32.7         11.7         20.4        \n",
            "40.0     49.0         45.2         47.4         1.6          2.2         \n",
            "47.0     39.0         42.7         40.3         1.3          2.4         \n",
            "48.0     40.0         32.0         36.6         3.4          4.6         \n",
            "\n",
            " RESUMO:\n",
            "   • Pedidos com melhoria: 4099 (82.0%)\n",
            "   • Pedidos com piora: 901 (18.0%)\n",
            "   • Pedidos iguais: 0 (0.0%)\n"
          ]
        }
      ],
      "source": [
        "# COMPARAÇÃO ETA ANTIGO vs NOVO vs ACTUAL\n",
        "print(\" COMPARAÇÃO ETA ANTIGO vs NOVO vs ACTUAL\")\n",
        "print(\"=\" * 60)\n",
        "\n",
        "# Usar o melhor modelo (Random Forest 500)\n",
        "melhor_modelo = modelos['Random Forest (500)']\n",
        "melhor_modelo.fit(X_final, y)\n",
        "\n",
        "# Fazer predições\n",
        "eta_novo = melhor_modelo.predict(X_final)\n",
        "\n",
        "# Criar DataFrame de comparação\n",
        "comparacao = pd.DataFrame({\n",
        "    'Pedido': range(1, len(df_canais_proprios) + 1),\n",
        "    'ETA_Antigo': df_canais_proprios['eta_minutes_quote'].values,\n",
        "    'ETA_Novo': eta_novo,\n",
        "    'Actual_Delivery': df_canais_proprios['actual_delivery_minutes'].values\n",
        "})\n",
        "\n",
        "# Calcular diferenças\n",
        "comparacao['Diff_Antigo'] = comparacao['Actual_Delivery'] - comparacao['ETA_Antigo']\n",
        "comparacao['Diff_Novo'] = comparacao['Actual_Delivery'] - comparacao['ETA_Novo']\n",
        "\n",
        "# Calcular erros absolutos\n",
        "comparacao['Erro_Abs_Antigo'] = abs(comparacao['Diff_Antigo'])\n",
        "comparacao['Erro_Abs_Novo'] = abs(comparacao['Diff_Novo'])\n",
        "\n",
        "# Estatísticas gerais\n",
        "print(f\"\\n ESTATÍSTICAS GERAIS:\")\n",
        "print(f\"   • RMSE ETA Antigo: {np.sqrt(mean_squared_error(comparacao['Actual_Delivery'], comparacao['ETA_Antigo'])):.3f}\")\n",
        "print(f\"   • RMSE ETA Novo: {np.sqrt(mean_squared_error(comparacao['Actual_Delivery'], comparacao['ETA_Novo'])):.3f}\")\n",
        "print(f\"   • Melhoria: {((np.sqrt(mean_squared_error(comparacao['Actual_Delivery'], comparacao['ETA_Antigo'])) - np.sqrt(mean_squared_error(comparacao['Actual_Delivery'], comparacao['ETA_Novo']))) / np.sqrt(mean_squared_error(comparacao['Actual_Delivery'], comparacao['ETA_Antigo'])) * 100):.1f}%\")\n",
        "\n",
        "# Mostrar alguns exemplos de melhoria\n",
        "print(f\"\\n EXEMPLOS DE MELHORIA:\")\n",
        "melhorias = comparacao[comparacao['Erro_Abs_Novo'] < comparacao['Erro_Abs_Antigo']].head(10)\n",
        "print(f\"{'Pedido':<8} {'ETA Antigo':<12} {'ETA Novo':<12} {'Actual':<12} {'Erro Antigo':<12} {'Erro Novo':<12}\")\n",
        "print(\"-\" * 80)\n",
        "for _, row in melhorias.iterrows():\n",
        "    print(f\"{row['Pedido']:<8} {row['ETA_Antigo']:<12.1f} {row['ETA_Novo']:<12.1f} {row['Actual_Delivery']:<12.1f} {row['Erro_Abs_Antigo']:<12.1f} {row['Erro_Abs_Novo']:<12.1f}\")\n",
        "\n",
        "# Mostrar alguns exemplos de piora\n",
        "print(f\"\\n EXEMPLOS DE PIORA:\")\n",
        "pioras = comparacao[comparacao['Erro_Abs_Novo'] > comparacao['Erro_Abs_Antigo']].head(10)\n",
        "print(f\"{'Pedido':<8} {'ETA Antigo':<12} {'ETA Novo':<12} {'Actual':<12} {'Erro Antigo':<12} {'Erro Novo':<12}\")\n",
        "print(\"-\" * 80)\n",
        "for _, row in pioras.iterrows():\n",
        "    print(f\"{row['Pedido']:<8} {row['ETA_Antigo']:<12.1f} {row['ETA_Novo']:<12.1f} {row['Actual_Delivery']:<12.1f} {row['Erro_Abs_Antigo']:<12.1f} {row['Erro_Abs_Novo']:<12.1f}\")\n",
        "\n",
        "# Contar melhorias vs pioras\n",
        "melhorias_count = len(comparacao[comparacao['Erro_Abs_Novo'] < comparacao['Erro_Abs_Antigo']])\n",
        "pioras_count = len(comparacao[comparacao['Erro_Abs_Novo'] > comparacao['Erro_Abs_Antigo']])\n",
        "iguais_count = len(comparacao[comparacao['Erro_Abs_Novo'] == comparacao['Erro_Abs_Antigo']])\n",
        "\n",
        "print(f\"\\n RESUMO:\")\n",
        "print(f\"   • Pedidos com melhoria: {melhorias_count} ({melhorias_count/len(comparacao)*100:.1f}%)\")\n",
        "print(f\"   • Pedidos com piora: {pioras_count} ({pioras_count/len(comparacao)*100:.1f}%)\")\n",
        "print(f\"   • Pedidos iguais: {iguais_count} ({iguais_count/len(comparacao)*100:.1f}%)\")"
      ]
    },
    {
      "cell_type": "markdown",
      "metadata": {},
      "source": []
    }
  ],
  "metadata": {
    "kernelspec": {
      "display_name": "venv",
      "language": "python",
      "name": "python3"
    },
    "language_info": {
      "codemirror_mode": {
        "name": "ipython",
        "version": 3
      },
      "file_extension": ".py",
      "mimetype": "text/x-python",
      "name": "python",
      "nbconvert_exporter": "python",
      "pygments_lexer": "ipython3",
      "version": "3.9.10"
    }
  },
  "nbformat": 4,
  "nbformat_minor": 2
}
