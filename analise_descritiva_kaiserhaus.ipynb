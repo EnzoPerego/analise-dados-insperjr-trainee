{
  "cells": [
    {
      "cell_type": "markdown",
      "metadata": {},
      "source": [
        "# Análise Descritiva - Base Kaiserhaus\n",
        "Notebook organizado para **Google Colab**.\n",
        "\n",
        "**Objetivos:** análise exploratória inicial, qualidade dos dados e estatísticas descritivas da base de pedidos do Kaiserhaus.\n"
      ]
    },
    {
      "cell_type": "markdown",
      "metadata": {},
      "source": [
        "## 0. Setup (instalações e imports)\n",
        "Execute esta célula apenas uma vez para instalar dependências no Colab.\n"
      ]
    },
    {
      "cell_type": "code",
      "execution_count": null,
      "metadata": {},
      "outputs": [],
      "source": [
        "# Se estiver no Colab, descomente a linha abaixo para garantir as dependências\n",
        "# !pip install -q pandas numpy matplotlib seaborn\n",
        "\n",
        "import os, math, textwrap\n",
        "import numpy as np\n",
        "import pandas as pd\n",
        "import matplotlib.pyplot as plt\n",
        "import seaborn as sns\n",
        "from datetime import datetime\n",
        "\n",
        "# Diretório de saída para gráficos e artefatos\n",
        "OUT_DIR = \"out\"\n",
        "os.makedirs(OUT_DIR, exist_ok=True)\n",
        "\n",
        "# Configs visuais básicas (matplotlib)\n",
        "plt.rcParams[\"figure.figsize\"] = (10, 6)\n",
        "plt.rcParams[\"axes.grid\"] = True\n",
        "plt.rcParams[\"font.size\"] = 10\n",
        "\n",
        "print(\"✅ Bibliotecas importadas com sucesso!\")\n"
      ]
    },
    {
      "cell_type": "markdown",
      "metadata": {},
      "source": [
        "## 1. Carregar dados\n",
        "Coloque seu arquivo `Base_Kaiserhaus.csv` no ambiente do Colab (ou no Google Drive) e informe o caminho.\n"
      ]
    },
    {
      "cell_type": "code",
      "execution_count": null,
      "metadata": {},
      "outputs": [],
      "source": [
        "# Caminho para o arquivo CSV\n",
        "caminho_csv = \"Base_Kaiserhaus.csv\"  # coloque o nome/caminho correto\n",
        "\n",
        "# Leitura do arquivo CSV\n",
        "df = pd.read_csv(caminho_csv)\n",
        "\n",
        "print(\"📊 Dimensão da base:\", df.shape)\n",
        "print(\"📋 Colunas disponíveis:\", list(df.columns))\n",
        "print(\"\\n🔍 Primeiras 5 linhas:\")\n",
        "df.head()\n"
      ]
    },
    {
      "cell_type": "markdown",
      "metadata": {},
      "source": [
        "## 2. Informações básicas da base\n",
        "Análise inicial da estrutura e tipos de dados.\n"
      ]
    },
    {
      "cell_type": "code",
      "execution_count": null,
      "metadata": {},
      "outputs": [],
      "source": [
        "print(\"📈 INFORMAÇÕES BÁSICAS DA BASE\")\n",
        "print(\"=\" * 50)\n",
        "\n",
        "print(f\"\\n📊 Dimensões:\")\n",
        "print(f\"   • Linhas: {df.shape[0]:,}\")\n",
        "print(f\"   • Colunas: {df.shape[1]}\")\n",
        "\n",
        "print(f\"\\n🔍 Tipos de dados:\")\n",
        "print(df.dtypes)\n"
      ]
    },
    {
      "cell_type": "markdown",
      "metadata": {},
      "source": [
        "## 3. Análise de valores nulos\n",
        "Identificação de dados faltantes na base.\n"
      ]
    },
    {
      "cell_type": "code",
      "execution_count": null,
      "metadata": {},
      "outputs": [],
      "source": [
        "print(\"🔍 ANÁLISE DE VALORES NULOS\")\n",
        "print(\"=\" * 50)\n",
        "\n",
        "# Contagem de valores nulos por coluna\n",
        "valores_nulos = df.isnull().sum()\n",
        "percentual_nulos = (valores_nulos / len(df)) * 100\n",
        "\n",
        "# Criar DataFrame com informações de nulos\n",
        "info_nulos = pd.DataFrame({\n",
        "    'Coluna': valores_nulos.index,\n",
        "    'Valores_Nulos': valores_nulos.values,\n",
        "    'Percentual': percentual_nulos.values\n",
        "})\n",
        "\n",
        "# Filtrar apenas colunas com valores nulos\n",
        "info_nulos = info_nulos[info_nulos['Valores_Nulos'] > 0].sort_values('Valores_Nulos', ascending=False)\n",
        "\n",
        "if len(info_nulos) > 0:\n",
        "    print(\"\\n⚠️  Colunas com valores nulos:\")\n",
        "    print(info_nulos.to_string(index=False))\n",
        "else:\n",
        "    print(\"\\n✅ Nenhum valor nulo encontrado na base!\")\n",
        "\n",
        "print(f\"\\n📊 Resumo:\")\n",
        "print(f\"   • Total de valores nulos: {df.isnull().sum().sum()}\")\n",
        "print(f\"   • Percentual geral: {(df.isnull().sum().sum() / (df.shape[0] * df.shape[1])) * 100:.2f}%\")\n"
      ]
    },
    {
      "cell_type": "markdown",
      "metadata": {},
      "source": [
        "## 4. Análise de duplicatas\n",
        "Verificação de registros duplicados na base.\n"
      ]
    },
    {
      "cell_type": "code",
      "execution_count": null,
      "metadata": {},
      "outputs": [],
      "source": [
        "print(\"🔍 ANÁLISE DE DUPLICATAS\")\n",
        "print(\"=\" * 50)\n",
        "\n",
        "# Verificar duplicatas completas\n",
        "duplicatas_completas = df.duplicated().sum()\n",
        "\n",
        "# Verificar duplicatas por pedido (assumindo que order_datetime + nome_cliente identifica pedido único)\n",
        "duplicatas_pedido = df.duplicated(subset=['order_datetime', 'nome_cliente']).sum()\n",
        "\n",
        "print(f\"\\n📊 Duplicatas encontradas:\")\n",
        "print(f\"   • Duplicatas completas: {duplicatas_completas:,}\")\n",
        "print(f\"   • Duplicatas de pedido: {duplicatas_pedido:,}\")\n",
        "\n",
        "if duplicatas_completas > 0:\n",
        "    print(f\"\\n⚠️  Exemplo de duplicatas completas:\")\n",
        "    print(df[df.duplicated()].head())\n",
        "\n",
        "if duplicatas_pedido > 0:\n",
        "    print(f\"\\n⚠️  Exemplo de duplicatas de pedido:\")\n",
        "    print(df[df.duplicated(subset=['order_datetime', 'nome_cliente'])].head())\n"
      ]
    },
    {
      "cell_type": "markdown",
      "metadata": {},
      "source": [
        "## 5. Análise de variáveis categóricas\n",
        "Exploração das variáveis categóricas e suas distribuições.\n"
      ]
    },
    {
      "cell_type": "code",
      "execution_count": null,
      "metadata": {},
      "outputs": [],
      "source": [
        "print(\"📊 ANÁLISE DE VARIÁVEIS CATEGÓRICAS\")\n",
        "print(\"=\" * 50)\n",
        "\n",
        "# Identificar colunas categóricas\n",
        "colunas_categoricas = df.select_dtypes(include=['object']).columns.tolist()\n",
        "\n",
        "print(f\"\\n🔍 Colunas categóricas identificadas: {colunas_categoricas}\")\n",
        "\n",
        "for coluna in colunas_categoricas:\n",
        "    print(f\"\\n📋 {coluna.upper()}:\")\n",
        "    print(f\"   • Valores únicos: {df[coluna].nunique()}\")\n",
        "    print(f\"   • Valores mais frequentes:\")\n",
        "    \n",
        "    # Mostrar top 5 valores mais frequentes\n",
        "    top_valores = df[coluna].value_counts().head(5)\n",
        "    for valor, count in top_valores.items():\n",
        "        percentual = (count / len(df)) * 100\n",
        "        print(f\"     - {valor}: {count:,} ({percentual:.1f}%)\")\n",
        "    \n",
        "    # Se há muitos valores únicos, mostrar resumo\n",
        "    if df[coluna].nunique() > 10:\n",
        "        print(f\"   • ... e mais {df[coluna].nunique() - 5} valores únicos\")\n"
      ]
    },
    {
      "cell_type": "markdown",
      "metadata": {},
      "source": [
        "## 6. Análise de variáveis numéricas\n",
        "Exploração das variáveis numéricas e identificação de outliers.\n"
      ]
    },
    {
      "cell_type": "code",
      "execution_count": null,
      "metadata": {},
      "outputs": [],
      "source": [
        "print(\"📊 ANÁLISE DE VARIÁVEIS NUMÉRICAS\")\n",
        "print(\"=\" * 50)\n",
        "\n",
        "# Identificar colunas numéricas\n",
        "colunas_numericas = df.select_dtypes(include=[np.number]).columns.tolist()\n",
        "\n",
        "print(f\"\\n🔍 Colunas numéricas identificadas: {colunas_numericas}\")\n",
        "\n",
        "# Estatísticas descritivas\n",
        "print(f\"\\n📈 ESTATÍSTICAS DESCRITIVAS:\")\n",
        "desc_stats = df[colunas_numericas].describe()\n",
        "print(desc_stats.round(2))\n"
      ]
    },
    {
      "cell_type": "markdown",
      "metadata": {},
      "source": [
        "## 7. Identificação de outliers\n",
        "Detecção de valores extremos usando método IQR.\n"
      ]
    },
    {
      "cell_type": "code",
      "execution_count": null,
      "metadata": {},
      "outputs": [],
      "source": [
        "print(\"🔍 IDENTIFICAÇÃO DE OUTLIERS (Método IQR)\")\n",
        "print(\"=\" * 50)\n",
        "\n",
        "def detectar_outliers_iqr(df, coluna):\n",
        "    \"\"\"\n",
        "    Detecta outliers usando o método IQR\n",
        "    \"\"\"\n",
        "    Q1 = df[coluna].quantile(0.25)\n",
        "    Q3 = df[coluna].quantile(0.75)\n",
        "    IQR = Q3 - Q1\n",
        "    \n",
        "    limite_inferior = Q1 - 1.5 * IQR\n",
        "    limite_superior = Q3 + 1.5 * IQR\n",
        "    \n",
        "    outliers = df[(df[coluna] < limite_inferior) | (df[coluna] > limite_superior)]\n",
        "    \n",
        "    return {\n",
        "        'Q1': Q1,\n",
        "        'Q3': Q3,\n",
        "        'IQR': IQR,\n",
        "        'limite_inferior': limite_inferior,\n",
        "        'limite_superior': limite_superior,\n",
        "        'outliers': outliers,\n",
        "        'count_outliers': len(outliers),\n",
        "        'percentual_outliers': (len(outliers) / len(df)) * 100\n",
        "    }\n",
        "\n",
        "print(\"\\n📊 Análise de outliers por variável:\")\n",
        "\n",
        "for coluna in colunas_numericas:\n",
        "    resultado = detectar_outliers_iqr(df, coluna)\n",
        "    \n",
        "    print(f\"\\n🔍 {coluna.upper()}:\")\n",
        "    print(f\"   • Q1: {resultado['Q1']:.2f}\")\n",
        "    print(f\"   • Q3: {resultado['Q3']:.2f}\")\n",
        "    print(f\"   • IQR: {resultado['IQR']:.2f}\")\n",
        "    print(f\"   • Limites: [{resultado['limite_inferior']:.2f}, {resultado['limite_superior']:.2f}]\")\n",
        "    print(f\"   • Outliers: {resultado['count_outliers']:,} ({resultado['percentual_outliers']:.1f}%)\")\n",
        "    \n",
        "    # Mostrar alguns exemplos de outliers\n",
        "    if resultado['count_outliers'] > 0:\n",
        "        print(f\"   • Exemplos de outliers: {resultado['outliers'][coluna].head(3).tolist()}\")\n"
      ]
    },
    {
      "cell_type": "markdown",
      "metadata": {},
      "source": [
        "## 8. Análise de valores impossíveis\n",
        "Identificação de valores que não fazem sentido do ponto de vista de negócio.\n"
      ]
    },
    {
      "cell_type": "code",
      "execution_count": null,
      "metadata": {},
      "outputs": [],
      "source": [
        "print(\"⚠️  ANÁLISE DE VALORES IMPOSSÍVEIS\")\n",
        "print(\"=\" * 50)\n",
        "\n",
        "# Verificações específicas por variável\n",
        "problemas_encontrados = False\n",
        "\n",
        "# 1. Tempos negativos\n",
        "tempos_negativos = df[df['actual_delivery_minutes'] < 0]\n",
        "if len(tempos_negativos) > 0:\n",
        "    print(f\"\\n❌ Tempos de entrega negativos: {len(tempos_negativos)} registros\")\n",
        "    print(f\"   Exemplos: {tempos_negativos['actual_delivery_minutes'].head(3).tolist()}\")\n",
        "    problemas_encontrados = True\n",
        "\n",
        "# 2. Distâncias negativas\n",
        "distancias_negativas = df[df['distance_km'] < 0]\n",
        "if len(distancias_negativas) > 0:\n",
        "    print(f\"\\n❌ Distâncias negativas: {len(distancias_negativas)} registros\")\n",
        "    problemas_encontrados = True\n",
        "\n",
        "# 3. Valores monetários negativos\n",
        "valores_negativos = df[df['total_brl'] < 0]\n",
        "if len(valores_negativos) > 0:\n",
        "    print(f\"\\n❌ Valores monetários negativos: {len(valores_negativos)} registros\")\n",
        "    problemas_encontrados = True\n",
        "\n",
        "# 4. Tempos de preparo negativos\n",
        "preparo_negativo = df[df['tempo_preparo_minutos'] < 0]\n",
        "if len(preparo_negativo) > 0:\n",
        "    print(f\"\\n❌ Tempos de preparo negativos: {len(preparo_negativo)} registros\")\n",
        "    problemas_encontrados = True\n",
        "\n",
        "# 5. Satisfação fora do range esperado (1-5)\n",
        "satisfacao_invalida = df[(df['satisfacao_nivel'] < 1) | (df['satisfacao_nivel'] > 5)]\n",
        "if len(satisfacao_invalida) > 0:\n",
        "    print(f\"\\n❌ Satisfação fora do range (1-5): {len(satisfacao_invalida)} registros\")\n",
        "    problemas_encontrados = True\n",
        "\n",
        "if not problemas_encontrados:\n",
        "    print(\"\\n✅ Nenhum valor impossível encontrado!\")\n",
        "else:\n",
        "    print(f\"\\n📊 Total de registros com problemas: {len(tempos_negativos) + len(distancias_negativas) + len(valores_negativos) + len(preparo_negativo) + len(satisfacao_invalida)}\")\n"
      ]
    },
    {
      "cell_type": "markdown",
      "metadata": {},
      "source": [
        "## 9. Resumo da qualidade dos dados\n",
        "Síntese final da qualidade da base de dados.\n"
      ]
    },
    {
      "cell_type": "code",
      "execution_count": null,
      "metadata": {},
      "outputs": [],
      "source": [
        "print(\"📋 RESUMO DA QUALIDADE DOS DADOS\")\n",
        "print(\"=\" * 50)\n",
        "\n",
        "# Calcular métricas de qualidade\n",
        "total_registros = len(df)\n",
        "total_valores_nulos = df.isnull().sum().sum()\n",
        "total_duplicatas = df.duplicated().sum()\n",
        "\n",
        "# Contar outliers totais\n",
        "total_outliers = 0\n",
        "for coluna in colunas_numericas:\n",
        "    resultado = detectar_outliers_iqr(df, coluna)\n",
        "    total_outliers += resultado['count_outliers']\n",
        "\n",
        "# Contar valores impossíveis\n",
        "valores_impossiveis = (\n",
        "    len(df[df['actual_delivery_minutes'] < 0]) +\n",
        "    len(df[df['distance_km'] < 0]) +\n",
        "    len(df[df['total_brl'] < 0]) +\n",
        "    len(df[df['tempo_preparo_minutos'] < 0]) +\n",
        "    len(df[(df['satisfacao_nivel'] < 1) | (df['satisfacao_nivel'] > 5)])\n",
        ")\n",
        "\n",
        "print(f\"\\n📊 MÉTRICAS GERAIS:\")\n",
        "print(f\"   • Total de registros: {total_registros:,}\")\n",
        "print(f\"   • Total de colunas: {df.shape[1]}\")\n",
        "print(f\"   • Uso de memória: {df.memory_usage(deep=True).sum() / 1024**2:.2f} MB\")\n",
        "\n",
        "print(f\"\\n🔍 PROBLEMAS IDENTIFICADOS:\")\n",
        "print(f\"   • Valores nulos: {total_valores_nulos:,} ({(total_valores_nulos / (total_registros * df.shape[1])) * 100:.2f}%)\")\n",
        "print(f\"   • Duplicatas completas: {total_duplicatas:,} ({(total_duplicatas / total_registros) * 100:.2f}%)\")\n",
        "print(f\"   • Valores impossíveis: {valores_impossiveis:,} ({(valores_impossiveis / total_registros) * 100:.2f}%)\")\n",
        "print(f\"   • Outliers detectados: {total_outliers:,} ({(total_outliers / total_registros) * 100:.2f}%)\")\n",
        "\n",
        "# Calcular score de qualidade (0-100)\n",
        "problemas_totais = total_valores_nulos + total_duplicatas + valores_impossiveis\n",
        "score_qualidade = max(0, 100 - (problemas_totais / total_registros) * 100)\n",
        "\n",
        "print(f\"\\n🎯 SCORE DE QUALIDADE: {score_qualidade:.1f}/100\")\n",
        "\n",
        "if score_qualidade >= 90:\n",
        "    print(\"   ✅ Excelente qualidade!\")\n",
        "elif score_qualidade >= 80:\n",
        "    print(\"   ⚠️  Boa qualidade, mas requer limpeza\")\n",
        "elif score_qualidade >= 70:\n",
        "    print(\"   ⚠️  Qualidade moderada, limpeza necessária\")\n",
        "else:\n",
        "    print(\"   ❌ Qualidade baixa, limpeza crítica necessária\")\n",
        "\n",
        "print(f\"\\n📝 PRÓXIMOS PASSOS:\")\n",
        "print(f\"   1. Implementar limpeza de dados\")\n",
        "print(f\"   2. Tratar valores nulos\")\n",
        "print(f\"   3. Corrigir valores impossíveis\")\n",
        "print(f\"   4. Decidir estratégia para outliers\")\n",
        "print(f\"   5. Criar base limpa para análises\")\n"
      ]
    }
  ],
  "metadata": {
    "language_info": {
      "name": "python"
    }
  },
  "nbformat": 4,
  "nbformat_minor": 2
}
