{
 "cells": [
  {
   "cell_type": "markdown",
   "id": "b25e0f0d",
   "metadata": {},
   "source": [
    "# Modelo Preditivo - Tempo Real de Entrega - Random Forest (Todos os Canais)\n",
    "\n",
    "**Objetivo:** Criar modelo Random Forest para prever o tempo REAL de entrega usando todos os canais\n",
    "\n",
    "**Variável Alvo:** `actual_delivery_minutes` (Tempo Real de Entrega)\n",
    "\n",
    "**Features:** `distance_km`, `tempo_preparo_minutos`, `periodo_dia` + insights da análise\n",
    "\n",
    "**Divisão:** 75% treino, 25% teste\n",
    "\n",
    "**Métricas:** MAE e R² (em minutos)\n",
    "\n",
    "**Insights aplicados:** Baseado na análise de precisão ETA\n"
   ]
  },
  {
   "cell_type": "code",
   "execution_count": 236,
   "id": "d8dd34a3",
   "metadata": {},
   "outputs": [],
   "source": [
    "import pandas as pd\n",
    "import numpy as np\n",
    "import matplotlib.pyplot as plt\n",
    "import seaborn as sns\n",
    "import warnings\n",
    "\n",
    "warnings.filterwarnings('ignore')\n",
    "\n",
    "# Configurações visuais\n",
    "plt.rcParams[\"figure.figsize\"] = (12, 8)\n",
    "plt.rcParams[\"axes.grid\"] = True\n",
    "plt.rcParams[\"font.size\"] = 10\n",
    "sns.set_style(\"whitegrid\")\n",
    "\n"
   ]
  },
  {
   "cell_type": "code",
   "execution_count": 237,
   "id": "e5120df4",
   "metadata": {},
   "outputs": [],
   "source": [
    "from sklearn.model_selection import train_test_split\n",
    "from sklearn.ensemble import RandomForestRegressor\n",
    "from sklearn.metrics import mean_absolute_error, r2_score, mean_squared_error\n",
    "from sklearn.preprocessing import LabelEncoder\n",
    "\n"
   ]
  },
  {
   "cell_type": "code",
   "execution_count": 238,
   "id": "fd1998ec",
   "metadata": {},
   "outputs": [
    {
     "name": "stdout",
     "output_type": "stream",
     "text": [
      "Dimensões da base: (5000, 16)\n",
      "Período dos dados: 2024-01-01 15:08:00 até 2024-12-31 21:27:00\n",
      "\n",
      "Colunas disponíveis:\n",
      "['macro_bairro', 'nome_cliente', 'bairro_destino', 'order_datetime', 'platform', 'order_mode', 'distance_km', 'tempo_preparo_minutos', 'status', 'eta_minutes_quote', 'actual_delivery_minutes', 'total_brl', 'classe_pedido', 'platform_commission_pct', 'num_itens', 'satisfacao_nivel']\n"
     ]
    }
   ],
   "source": [
    "\n",
    "df = pd.read_csv('tratamento_inicial/Base_Kaiserhaus_Limpa.csv')\n",
    "\n",
    "print(f\"Dimensões da base: {df.shape}\")\n",
    "print(f\"Período dos dados: {df['order_datetime'].min()} até {df['order_datetime'].max()}\")\n",
    "print(f\"\\nColunas disponíveis:\")\n",
    "print(df.columns.tolist())\n"
   ]
  },
  {
   "cell_type": "code",
   "execution_count": 239,
   "id": "6cd06a33",
   "metadata": {},
   "outputs": [
    {
     "name": "stdout",
     "output_type": "stream",
     "text": [
      "\n",
      "Estatísticas do Tempo Real de Entrega:\n",
      "count    5000.000000\n",
      "mean       29.563692\n",
      "std        12.654298\n",
      "min         0.000000\n",
      "25%        20.700000\n",
      "50%        28.840000\n",
      "75%        37.500000\n",
      "max        76.700000\n",
      "Name: actual_delivery_minutes, dtype: float64\n",
      "\n",
      "Distribuição por período do dia:\n",
      "periodo_dia\n",
      "Tarde        1897\n",
      "Noite        1569\n",
      "Manhã        1399\n",
      "Madrugada     135\n",
      "Name: count, dtype: int64\n"
     ]
    }
   ],
   "source": [
    "df['order_datetime'] = pd.to_datetime(df['order_datetime'])\n",
    "\n",
    "df['hora_pedido'] = df['order_datetime'].dt.hour\n",
    "df['dia_semana'] = df['order_datetime'].dt.day_name()\n",
    "df['is_weekend'] = df['order_datetime'].dt.weekday >= 5\n",
    "\n",
    "# Criar período do dia baseado nos insights (horários críticos identificados)\n",
    "def categorizar_periodo_dia(hora):\n",
    "    if 6 <= hora < 12:\n",
    "        return 'Manhã'\n",
    "    elif 12 <= hora < 18:\n",
    "        return 'Tarde'\n",
    "    elif 18 <= hora < 24:\n",
    "        return 'Noite'\n",
    "    else:\n",
    "        return 'Madrugada'\n",
    "\n",
    "df['periodo_dia'] = df['hora_pedido'].apply(categorizar_periodo_dia)\n",
    "\n",
    "# aqui seriia a criacao de features baseadas nos insights\n",
    "\n",
    "# sazonalidade diária\n",
    "df['hora_sin'] = np.sin(2 * np.pi * df['hora_pedido'] / 24)\n",
    "df['hora_cos'] = np.cos(2 * np.pi * df['hora_pedido'] / 24)\n",
    "\n",
    "# flags para cenários críticos identificados na análise\n",
    "df['is_horario_critico'] = df['hora_pedido'].isin([18, 19, 20, 21, 22, 23]).astype(int)\n",
    "df['is_plataforma_critica'] = (df['platform'] == 'ifood').astype(int)\n",
    "df['is_bairro_critico'] = df['macro_bairro'].isin(['Morumbi', 'Vila Mariana', 'Santo Amaro']).astype(int)\n",
    "\n",
    "print(f\"\\nEstatísticas do Tempo Real de Entrega:\")\n",
    "print(df['actual_delivery_minutes'].describe())\n",
    "\n",
    "print(f\"\\nDistribuição por período do dia:\")\n",
    "print(df['periodo_dia'].value_counts())\n"
   ]
  },
  {
   "cell_type": "markdown",
   "id": "7d39c9c0",
   "metadata": {},
   "source": [
    "## Preparação dos Dados para Modelagem\n"
   ]
  },
  {
   "cell_type": "code",
   "execution_count": 240,
   "id": "e7ca939d",
   "metadata": {},
   "outputs": [
    {
     "name": "stdout",
     "output_type": "stream",
     "text": [
      "Total: 10 features\n"
     ]
    }
   ],
   "source": [
    "y = df['actual_delivery_minutes']\n",
    "\n",
    "X_basicas = df[['distance_km', 'tempo_preparo_minutos', 'periodo_dia']].copy()\n",
    "\n",
    "# features adicionais baseadas nos insights\n",
    "X_insights = df[['hora_sin', 'hora_cos', \n",
    "                 'is_horario_critico', 'is_plataforma_critica', 'is_bairro_critico',\n",
    "                 'platform', 'macro_bairro']].copy()\n",
    "\n",
    "#comobinar as features X\n",
    "X = pd.concat([X_basicas, X_insights], axis=1)\n",
    "\n",
    "print(f\"Total: {X.shape[1]} features\")\n",
    "\n"
   ]
  },
  {
   "cell_type": "markdown",
   "id": "7c115074",
   "metadata": {},
   "source": [
    "## Encoding das Features Categóricas\n"
   ]
  },
  {
   "cell_type": "code",
   "execution_count": 241,
   "id": "528df217",
   "metadata": {},
   "outputs": [
    {
     "name": "stdout",
     "output_type": "stream",
     "text": [
      "FEATURES CATEGÓRICAS: ['periodo_dia', 'platform', 'macro_bairro']\n",
      "FEATURES NUMÉRICAS: ['distance_km', 'tempo_preparo_minutos', 'hora_sin', 'hora_cos', 'is_horario_critico', 'is_plataforma_critica', 'is_bairro_critico']\n",
      "\n",
      "periodo_dia - classes: ['Madrugada' 'Manhã' 'Noite' 'Tarde']\n",
      "\n",
      "platform - classes: ['ifood' 'rappi' 'site_proprio' 'whatsapp']\n",
      "\n",
      "macro_bairro - classes: ['Brooklin' 'Itaim' 'Jardins' 'Moema' 'Morumbi' 'Outros' 'Pinheiros'\n",
      " 'Santo Amaro' 'Vila Mariana' 'Vila Olímpia']\n"
     ]
    }
   ],
   "source": [
    "#features categóricas\n",
    "categorical_features = ['periodo_dia', 'platform', 'macro_bairro']\n",
    "numerical_features = [col for col in X.columns if col not in categorical_features]\n",
    "\n",
    "print(f\"FEATURES CATEGÓRICAS: {categorical_features}\")\n",
    "print(f\"FEATURES NUMÉRICAS: {numerical_features}\")\n",
    "\n",
    "#Labelencoder para features categóricas\n",
    "X_encoded = X.copy()\n",
    "label_encoders = {}\n",
    "\n",
    "for feature in categorical_features:\n",
    "    le = LabelEncoder()\n",
    "    X_encoded[feature] = le.fit_transform(X[feature])\n",
    "    label_encoders[feature] = le\n",
    "    print(f\"\\n{feature} - classes: {le.classes_}\")\n",
    "\n"
   ]
  },
  {
   "cell_type": "markdown",
   "id": "3c08c463",
   "metadata": {},
   "source": [
    "## Divisão Treino/Teste (75%/25%)\n"
   ]
  },
  {
   "cell_type": "code",
   "execution_count": 242,
   "id": "30fae01a",
   "metadata": {},
   "outputs": [
    {
     "name": "stdout",
     "output_type": "stream",
     "text": [
      "divisao dos dados:\n",
      "  Treino: 3750 amostras (75.0%)\n",
      "  Teste: 1250 amostras (25.0%)\n",
      "  Features: 10\n",
      "\n",
      "ESTATÍSTICAS DO TEMPO REAL DE ENTREGA:\n",
      "   Treino - Média: 29.60 min, Std: 12.64 min\n",
      "   Teste - Média: 29.44 min, Std: 12.72 min\n",
      "   Geral - Média: 29.56 min, Std: 12.65 min\n"
     ]
    }
   ],
   "source": [
    "X_train, X_test, y_train, y_test = train_test_split(\n",
    "    X_encoded, y, \n",
    "    test_size=0.25, \n",
    "    random_state=42,\n",
    "    stratify=None  #pesquisei e nao eh para estratificar pois nosso actual é contínuo\n",
    ")\n",
    "\n",
    "print(f\"divisao dos dados:\")\n",
    "print(f\"  Treino: {X_train.shape[0]} amostras ({X_train.shape[0]/len(X_encoded)*100:.1f}%)\")\n",
    "print(f\"  Teste: {X_test.shape[0]} amostras ({X_test.shape[0]/len(X_encoded)*100:.1f}%)\")\n",
    "print(f\"  Features: {X_train.shape[1]}\")\n",
    "\n",
    "print(f\"\\nESTATÍSTICAS DO TEMPO REAL DE ENTREGA:\")\n",
    "print(f\"   Treino - Média: {y_train.mean():.2f} min, Std: {y_train.std():.2f} min\")\n",
    "print(f\"   Teste - Média: {y_test.mean():.2f} min, Std: {y_test.std():.2f} min\")\n",
    "print(f\"   Geral - Média: {y.mean():.2f} min, Std: {y.std():.2f} min\")\n"
   ]
  },
  {
   "cell_type": "markdown",
   "id": "8d749f26",
   "metadata": {},
   "source": [
    "## Treinamento do Modelo Random Forest\n"
   ]
  },
  {
   "cell_type": "code",
   "execution_count": 243,
   "id": "e7c22e57",
   "metadata": {},
   "outputs": [
    {
     "name": "stdout",
     "output_type": "stream",
     "text": [
      "Número de árvores: 100\n",
      "Profundidade máxima: 15\n",
      "Features por divisão: sqrt\n",
      "Amostras mínimas para dividir: 10\n",
      "Amostras mínimas por folha: 5\n"
     ]
    }
   ],
   "source": [
    "\n",
    "rf_model = RandomForestRegressor(\n",
    "    n_estimators=100,\n",
    "    max_depth=15,\n",
    "    min_samples_split=10, \n",
    "    min_samples_leaf=5,  \n",
    "    max_features='sqrt', \n",
    "    random_state=42,  \n",
    "    n_jobs=-1                  \n",
    ")\n",
    "\n",
    "rf_model.fit(X_train, y_train)\n",
    "\n",
    "print(f\"Número de árvores: {rf_model.n_estimators}\")\n",
    "print(f\"Profundidade máxima: {rf_model.max_depth}\")\n",
    "print(f\"Features por divisão: {rf_model.max_features}\")\n",
    "print(f\"Amostras mínimas para dividir: {rf_model.min_samples_split}\")\n",
    "print(f\"Amostras mínimas por folha: {rf_model.min_samples_leaf}\")\n"
   ]
  },
  {
   "cell_type": "markdown",
   "id": "012803e9",
   "metadata": {},
   "source": [
    "## Predições e Métricas\n"
   ]
  },
  {
   "cell_type": "code",
   "execution_count": 244,
   "id": "2bc1a9ed",
   "metadata": {},
   "outputs": [
    {
     "name": "stdout",
     "output_type": "stream",
     "text": [
      "\n",
      "treino (75%):\n",
      "   MAE: 3.72 minutos\n",
      "   R^2: 0.8581\n",
      "   RMSE: 4.76 minutos\n",
      "\n",
      "teste (25%):\n",
      "   MAE: 4.60 minutos\n",
      "   R^2: 0.7801\n",
      "   RMSE: 5.96 minutos\n",
      "\n",
      "verificacao de overfitting:\n",
      "   Diferença MAE: 0.87 minutos\n",
      "   Diferença R^2: 0.0780\n",
      "\n",
      "modelo está bem generalizado\n",
      "\n",
      "MAE: Erro médio absoluto em minutos\n",
      "R²: Proporção da variância explicada (0-1, quanto maior melhor)\n",
      "RMSE: Erro quadrático médio (penaliza erros grandes)\n"
     ]
    }
   ],
   "source": [
    "#predicoes\n",
    "y_train_pred = rf_model.predict(X_train)\n",
    "y_test_pred = rf_model.predict(X_test)\n",
    "\n",
    "\n",
    "# metrcicas para treino\n",
    "mae_train = mean_absolute_error(y_train, y_train_pred)\n",
    "r2_train = r2_score(y_train, y_train_pred)\n",
    "rmse_train = np.sqrt(mean_squared_error(y_train, y_train_pred))\n",
    "\n",
    "#metricas para teste\n",
    "mae_test = mean_absolute_error(y_test, y_test_pred)\n",
    "r2_test = r2_score(y_test, y_test_pred)\n",
    "rmse_test = np.sqrt(mean_squared_error(y_test, y_test_pred))\n",
    "\n",
    "print(f\"\\ntreino (75%):\")\n",
    "print(f\"   MAE: {mae_train:.2f} minutos\")\n",
    "print(f\"   R^2: {r2_train:.4f}\")\n",
    "print(f\"   RMSE: {rmse_train:.2f} minutos\")\n",
    "\n",
    "print(f\"\\nteste (25%):\")\n",
    "print(f\"   MAE: {mae_test:.2f} minutos\")\n",
    "print(f\"   R^2: {r2_test:.4f}\")\n",
    "print(f\"   RMSE: {rmse_test:.2f} minutos\")\n",
    "\n",
    "print(f\"\\nverificacao de overfitting:\")\n",
    "print(f\"   Diferença MAE: {abs(mae_train - mae_test):.2f} minutos\")\n",
    "print(f\"   Diferença R^2: {abs(r2_train - r2_test):.4f}\")\n",
    "\n",
    "if abs(mae_train - mae_test) < 2 and abs(r2_train - r2_test) < 0.1:\n",
    "    print(f\"\\nmodelo está bem generalizado\")\n",
    "else:\n",
    "    print(f\"possível overfitting detectado\")\n",
    "\n",
    "\n",
    "print(f\"\\nMAE: Erro médio absoluto em minutos\")\n",
    "print(f\"R²: Proporção da variância explicada (0-1, quanto maior melhor)\")\n",
    "print(f\"RMSE: Erro quadrático médio (penaliza erros grandes)\")\n"
   ]
  },
  {
   "cell_type": "markdown",
   "id": "e01078df",
   "metadata": {},
   "source": [
    "## Análise de Importância das Features\n"
   ]
  },
  {
   "cell_type": "code",
   "execution_count": 245,
   "id": "1cfcf2a1",
   "metadata": {},
   "outputs": [
    {
     "name": "stdout",
     "output_type": "stream",
     "text": [
      "importacnia de cada feature:\n",
      "tempo_preparo_minutos     0.4628\n",
      "distance_km               0.3657\n",
      "macro_bairro              0.0647\n",
      "platform                  0.0424\n",
      "hora_sin                  0.0151\n",
      "is_plataforma_critica     0.0149\n",
      "hora_cos                  0.0144\n",
      "is_bairro_critico         0.0126\n",
      "periodo_dia               0.0051\n",
      "is_horario_critico        0.0023\n"
     ]
    },
    {
     "data": {
      "image/png": "[encoded data removed]",
      "text/plain": [
       "<Figure size 1200x800 with 1 Axes>"
      ]
     },
     "metadata": {},
     "output_type": "display_data"
    },
    {
     "name": "stdout",
     "output_type": "stream",
     "text": [
      " Features básicas representam 89.3% da importância\n",
      " Features de insights adicionam valor significativo\n",
      " Tempo de preparo é a feature mais importante (como esperado)\n"
     ]
    }
   ],
   "source": [
    "feature_importance = pd.DataFrame({\n",
    "    'feature': X_encoded.columns,\n",
    "    'importance': rf_model.feature_importances_\n",
    "}).sort_values('importance', ascending=False)\n",
    "\n",
    "print(\"importacnia de cada feature:\")\n",
    "for idx, row in feature_importance.iterrows():\n",
    "    print(f\"{row['feature']:25} {row['importance']:.4f}\")\n",
    "\n",
    "#grafico para ver melhor as importacnias\n",
    "plt.figure(figsize=(12, 8))\n",
    "plt.barh(range(len(feature_importance)), feature_importance['importance'], color='skyblue')\n",
    "plt.yticks(range(len(feature_importance)), feature_importance['feature'])\n",
    "plt.xlabel('Importância')\n",
    "plt.title('Importância das Features - Random Forest')\n",
    "plt.gca().invert_yaxis()\n",
    "plt.grid(True, alpha=0.3)\n",
    "plt.tight_layout()\n",
    "plt.show()\n",
    "\n",
    "\n",
    "print(f\" Features básicas representam {feature_importance.head(3)['importance'].sum():.1%} da importância\")\n",
    "print(f\" Features de insights adicionam valor significativo\")\n",
    "print(f\" Tempo de preparo é a feature mais importante (como esperado)\")\n"
   ]
  },
  {
   "cell_type": "markdown",
   "id": "9ca398f0",
   "metadata": {},
   "source": [
    "## Conclusoes\n"
   ]
  },
  {
   "cell_type": "code",
   "execution_count": 246,
   "id": "d5b02767",
   "metadata": {},
   "outputs": [
    {
     "name": "stdout",
     "output_type": "stream",
     "text": [
      "Conclusoes\n",
      "\n",
      "treino e teste (comparacao):\n",
      "  MAE Treino: 3.72 minutos\n",
      "  MAE Teste: 4.60 minutos\n",
      "  R² Treino: 0.8581\n",
      "  R² Teste: 0.7801\n",
      "\n",
      "features mais importantes:\n",
      "   1. tempo_preparo_minutos: 0.4628\n",
      "   2. distance_km: 0.3657\n",
      "   3. macro_bairro: 0.0647\n"
     ]
    }
   ],
   "source": [
    "print(\"Conclusoes\")\n",
    "\n",
    "print(f\"\\ntreino e teste (comparacao):\")\n",
    "print(f\"  MAE Treino: {mae_train:.2f} minutos\")\n",
    "print(f\"  MAE Teste: {mae_test:.2f} minutos\")\n",
    "print(f\"  R² Treino: {r2_train:.4f}\")\n",
    "print(f\"  R² Teste: {r2_test:.4f}\")\n",
    "\n",
    "print(f\"\\nfeatures mais importantes:\")\n",
    "for i, (idx, row) in enumerate(feature_importance.head(3).iterrows(), 1):\n",
    "    print(f\"   {i}. {row['feature']}: {row['importance']:.4f}\")\n",
    "\n"
   ]
  },
  {
   "cell_type": "markdown",
   "id": "01bea3c1",
   "metadata": {},
   "source": []
  }
 ],
 "metadata": {
  "language_info": {
   "name": "python"
  }
 },
 "nbformat": 4,
 "nbformat_minor": 5
}
