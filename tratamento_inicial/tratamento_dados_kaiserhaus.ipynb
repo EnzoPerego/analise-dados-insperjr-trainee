{
  "cells": [
    {
      "cell_type": "markdown",
      "metadata": {},
      "source": [
        "# Tratamento de Dados - Base Kaiserhaus\n",
        "Notebook para limpeza e preparação dos dados baseado na análise exploratória.\n",
        "\n",
        "**Objetivos:** aplicar limpeza inteligente usando insights da análise descritiva.\n"
      ]
    },
    {
      "cell_type": "markdown",
      "metadata": {},
      "source": [
        "## 0. Setup e Imports\n",
        "Carregamento das bibliotecas e dados.\n"
      ]
    },
    {
      "cell_type": "code",
      "execution_count": 1,
      "metadata": {},
      "outputs": [
        {
          "name": "stdout",
          "output_type": "stream",
          "text": [
            "✅ Bibliotecas importadas com sucesso!\n"
          ]
        }
      ],
      "source": [
        "import pandas as pd\n",
        "import numpy as np\n",
        "import matplotlib.pyplot as plt\n",
        "import seaborn as sns\n",
        "from datetime import datetime\n",
        "import warnings\n",
        "warnings.filterwarnings('ignore')\n",
        "\n",
        "# Configurações visuais\n",
        "plt.rcParams[\"figure.figsize\"] = (10, 6)\n",
        "plt.rcParams[\"axes.grid\"] = True\n",
        "plt.rcParams[\"font.size\"] = 10\n",
        "\n",
        "print(\"✅ Bibliotecas importadas com sucesso!\")\n"
      ]
    },
    {
      "cell_type": "markdown",
      "metadata": {},
      "source": [
        "## 1. Carregamento dos Dados\n",
        "Carrega a base original e informações da análise exploratória.\n"
      ]
    },
    {
      "cell_type": "code",
      "execution_count": 2,
      "metadata": {},
      "outputs": [
        {
          "name": "stdout",
          "output_type": "stream",
          "text": [
            "📊 Dados carregados:\n",
            "   • Registros: 5,000\n",
            "   • Colunas: 16\n",
            "   • Valores nulos: 523\n",
            "\n",
            "📋 Informações da análise exploratória carregadas!\n"
          ]
        }
      ],
      "source": [
        "# Carregar dados originais\n",
        "df = pd.read_csv(\"Base_Kaiserhaus.csv\")\n",
        "\n",
        "print(\"📊 Dados carregados:\")\n",
        "print(f\"   • Registros: {len(df):,}\")\n",
        "print(f\"   • Colunas: {df.shape[1]}\")\n",
        "print(f\"   • Valores nulos: {df.isnull().sum().sum()}\")\n",
        "\n",
        "# Informações da análise exploratória (valores conhecidos)\n",
        "INFO_ANALISE = {\n",
        "    'valores_nulos': {\n",
        "        'distance_km': 323,\n",
        "        'actual_delivery_minutes': 200\n",
        "    },\n",
        "    'valores_impossiveis': {\n",
        "        'actual_delivery_minutes_negativos': 9\n",
        "    },\n",
        "    'colunas_numericas': ['distance_km', 'tempo_preparo_minutos', 'eta_minutes_quote', \n",
        "                         'actual_delivery_minutes', 'total_brl', 'platform_commission_pct', \n",
        "                         'num_itens', 'satisfacao_nivel'],\n",
        "    'colunas_categoricas': ['macro_bairro', 'nome_cliente', 'bairro_destino', 'order_datetime', \n",
        "                           'platform', 'order_mode', 'status', 'classe_pedido']\n",
        "}\n",
        "\n",
        "print(\"\\n📋 Informações da análise exploratória carregadas!\")\n"
      ]
    },
    {
      "cell_type": "markdown",
      "metadata": {},
      "source": [
        "## 2. Funções de Tratamento\n",
        "Funções baseadas nos insights da análise exploratória.\n"
      ]
    },
    {
      "cell_type": "code",
      "execution_count": 3,
      "metadata": {},
      "outputs": [
        {
          "name": "stdout",
          "output_type": "stream",
          "text": [
            "✅ Funções de tratamento criadas!\n"
          ]
        }
      ],
      "source": [
        "def detectar_outliers_inteligente(df, coluna):\n",
        "    \"\"\"\n",
        "    Detecta outliers usando método IQR + limites de negócio\n",
        "    Baseado na análise exploratória\n",
        "    \"\"\"\n",
        "    Q1 = df[coluna].quantile(0.25)\n",
        "    Q3 = df[coluna].quantile(0.75)\n",
        "    IQR = Q3 - Q1\n",
        "    \n",
        "    # Limites estatísticos\n",
        "    limite_inferior_stat = Q1 - 1.5 * IQR\n",
        "    limite_superior_stat = Q3 + 1.5 * IQR\n",
        "    \n",
        "    # Limites de negócio (baseados na análise)\n",
        "    limites_negocio = {\n",
        "        'distance_km': {'min': 0, 'max': 30},\n",
        "        'tempo_preparo_minutos': {'min': 0, 'max': 90},\n",
        "        'eta_minutes_quote': {'min': 5, 'max': 120},\n",
        "        'actual_delivery_minutes': {'min': 0, 'max': 120},\n",
        "        'total_brl': {'min': 0, 'max': 2000},\n",
        "        'platform_commission_pct': {'min': 0, 'max': 0.35},\n",
        "        'num_itens': {'min': 1, 'max': 50},\n",
        "        'satisfacao_nivel': {'min': 0, 'max': 5}\n",
        "    }\n",
        "    \n",
        "    # Usar limite mais restritivo\n",
        "    if coluna in limites_negocio:\n",
        "        limite_inferior = max(limite_inferior_stat, limites_negocio[coluna]['min'])\n",
        "        limite_superior = min(limite_superior_stat, limites_negocio[coluna]['max'])\n",
        "    else:\n",
        "        limite_inferior = limite_inferior_stat\n",
        "        limite_superior = limite_superior_stat\n",
        "    \n",
        "    outliers_abaixo = df[df[coluna] < limite_inferior]\n",
        "    outliers_acima = df[df[coluna] > limite_superior]\n",
        "    \n",
        "    return {\n",
        "        'limite_inferior': limite_inferior,\n",
        "        'limite_superior': limite_superior,\n",
        "        'outliers_abaixo': outliers_abaixo,\n",
        "        'outliers_acima': outliers_acima,\n",
        "        'count_abaixo': len(outliers_abaixo),\n",
        "        'count_acima': len(outliers_acima)\n",
        "    }\n",
        "\n",
        "def tratar_valores_nulos_geograficos(df):\n",
        "    \"\"\"\n",
        "    Trata valores nulos usando padrões geográficos\n",
        "    \"\"\"\n",
        "    df_limpo = df.copy()\n",
        "    \n",
        "    # Imputação de distância por bairro destino\n",
        "    media_distancia_por_bairro = df_limpo.groupby('bairro_destino')['distance_km'].mean()\n",
        "    df_limpo['distance_km'] = df_limpo['distance_km'].fillna(\n",
        "        df_limpo['bairro_destino'].map(media_distancia_por_bairro)\n",
        "    )\n",
        "    \n",
        "    # Imputação de tempo de entrega por bairro destino\n",
        "    media_tempo_por_bairro = df_limpo.groupby('bairro_destino')['actual_delivery_minutes'].mean()\n",
        "    df_limpo['actual_delivery_minutes'] = df_limpo['actual_delivery_minutes'].fillna(\n",
        "        df_limpo['bairro_destino'].map(media_tempo_por_bairro)\n",
        "    )\n",
        "    \n",
        "    return df_limpo\n",
        "\n",
        "print(\"✅ Funções de tratamento criadas!\")\n"
      ]
    },
    {
      "cell_type": "markdown",
      "metadata": {},
      "source": [
        "## 3. Aplicação do Tratamento\n",
        "Executa a limpeza baseada na análise exploratória.\n"
      ]
    },
    {
      "cell_type": "code",
      "execution_count": 4,
      "metadata": {},
      "outputs": [
        {
          "name": "stdout",
          "output_type": "stream",
          "text": [
            "\n",
            "⚠️ CORRIGINDO VALORES IMPOSSÍVEIS:\n",
            "   • Tempos negativos encontrados: 9\n",
            "   • Exemplos: [-0.9, -1.1, -1.4]\n",
            "   • ETAs correspondentes: [21, 21, 32]\n",
            "   • Tempo negativo -0.9 min → Média do Chácara Santo Antônio: 32.7 min\n",
            "   • Tempo negativo -1.1 min → Média do Paraíso: 30.9 min\n",
            "   • Tempo negativo -1.4 min → Média do Campo Belo: 21.6 min\n",
            "   • Tempo negativo -2.4 min → Média do Brooklin: 20.7 min\n",
            "   • Tempo negativo -1.2 min → Média do Ibirapuera: 26.4 min\n",
            "   • Tempo negativo -0.4 min → Média do Brooklin: 20.8 min\n",
            "   • Tempo negativo -5.7 min → Média do Liberdade: 34.8 min\n",
            "   • Tempo negativo -0.7 min → Média do Campo Belo: 21.6 min\n",
            "   • Tempo negativo -3.7 min → Média do Aclimação: 31.7 min\n",
            "   • Corrigidos usando média geográfica (consistente com tratamento de nulos)\n",
            "\n",
            "📊 ESTADO FINAL:\n",
            "   • Registros: 5,000\n",
            "   • Valores nulos: 523\n",
            "   • Tempos negativos: 0\n",
            "\n",
            "🎯 MELHORIA DE QUALIDADE: 1.7%\n",
            "   • Problemas resolvidos: 9\n",
            "   • Problemas restantes: 523\n"
          ]
        }
      ],
      "source": [
        "# 2. CORRIGIR VALORES IMPOSSÍVEIS (tempos negativos usando média geográfica)\n",
        "df_tratado = df.copy()\n",
        "print(f\"\\n⚠️ CORRIGINDO VALORES IMPOSSÍVEIS:\")\n",
        "tempos_negativos = df_tratado[df_tratado['actual_delivery_minutes'] < 0]\n",
        "print(f\"   • Tempos negativos encontrados: {len(tempos_negativos)}\")\n",
        "\n",
        "if len(tempos_negativos) > 0:\n",
        "    print(f\"   • Exemplos: {tempos_negativos['actual_delivery_minutes'].head(3).tolist()}\")\n",
        "    print(f\"   • ETAs correspondentes: {tempos_negativos['eta_minutes_quote'].head(3).tolist()}\")\n",
        "    \n",
        "    # Corrigir usando média geográfica (mesma estratégia dos nulos)\n",
        "    for idx, row in tempos_negativos.iterrows():\n",
        "        bairro = row['bairro_destino']\n",
        "        media_tempo_bairro = df_tratado.groupby('bairro_destino')['actual_delivery_minutes'].mean()[bairro]\n",
        "        df_tratado.loc[idx, 'actual_delivery_minutes'] = media_tempo_bairro\n",
        "        print(f\"   • Tempo negativo {row['actual_delivery_minutes']:.1f} min → Média do {bairro}: {media_tempo_bairro:.1f} min\")\n",
        "    \n",
        "    print(f\"   • Corrigidos usando média geográfica (consistente com tratamento de nulos)\")\n",
        "\n",
        "print(f\"\\n📊 ESTADO FINAL:\")\n",
        "print(f\"   • Registros: {len(df_tratado):,}\")\n",
        "print(f\"   • Valores nulos: {df_tratado.isnull().sum().sum()}\")\n",
        "print(f\"   • Tempos negativos: {len(df_tratado[df_tratado['actual_delivery_minutes'] < 0])}\")\n",
        "\n",
        "# Calcular score de qualidade\n",
        "problemas_iniciais = df.isnull().sum().sum() + len(df[df['actual_delivery_minutes'] < 0])\n",
        "problemas_finais = df_tratado.isnull().sum().sum()\n",
        "melhoria = ((problemas_iniciais - problemas_finais) / problemas_iniciais) * 100\n",
        "\n",
        "print(f\"\\n🎯 MELHORIA DE QUALIDADE: {melhoria:.1f}%\")\n",
        "print(f\"   • Problemas resolvidos: {problemas_iniciais - problemas_finais}\")\n",
        "print(f\"   • Problemas restantes: {problemas_finais}\")"
      ]
    },
    {
      "cell_type": "markdown",
      "metadata": {},
      "source": [
        "## 4. Salvamento da Base Limpa\n",
        "Salva a base tratada para análises futuras.\n"
      ]
    },
    {
      "cell_type": "code",
      "execution_count": 5,
      "metadata": {},
      "outputs": [
        {
          "name": "stdout",
          "output_type": "stream",
          "text": [
            "💾 SALVANDO BASE LIMPA\n",
            "==================================================\n",
            "✅ Base limpa salva como 'Base_Kaiserhaus_Limpa.csv'\n",
            "✅ Relatório salvo como 'relatorio_tratamento.txt'\n",
            "\n",
            "📋 Próximos passos:\n",
            "   1. Usar 'Base_Kaiserhaus_Limpa.csv' para análises\n",
            "   2. Revisar outliers identificados\n",
            "   3. Aplicar análises das hipóteses\n",
            "   4. Documentar decisões sobre outliers\n"
          ]
        }
      ],
      "source": [
        "print(\"💾 SALVANDO BASE LIMPA\")\n",
        "print(\"=\" * 50)\n",
        "\n",
        "# Salvar base tratada\n",
        "df_tratado.to_csv('Base_Kaiserhaus_Limpa.csv', index=False)\n",
        "print(f\"✅ Base limpa salva como 'Base_Kaiserhaus_Limpa.csv'\")\n",
        "\n",
        "# Criar relatório de tratamento\n",
        "relatorio = f\"\"\"\n",
        "RELATÓRIO DE TRATAMENTO DE DADOS - BASE KAISERHAUS\n",
        "==================================================\n",
        "\n",
        "Data: {datetime.now().strftime('%Y-%m-%d %H:%M:%S')}\n",
        "\n",
        "ESTATÍSTICAS:\n",
        "- Registros originais: {len(df):,}\n",
        "- Registros finais: {len(df_tratado):,}\n",
        "- Registros mantidos: {len(df_tratado)/len(df)*100:.1f}%\n",
        "\n",
        "PROBLEMAS RESOLVIDOS:\n",
        "- Valores nulos em distance_km: {INFO_ANALISE['valores_nulos']['distance_km']}\n",
        "- Valores nulos em actual_delivery_minutes: {INFO_ANALISE['valores_nulos']['actual_delivery_minutes']}\n",
        "- Tempos de entrega negativos: {INFO_ANALISE['valores_impossiveis']['actual_delivery_minutes_negativos']} (substituídos por ETA)\n",
        "\n",
        "MELHORIA DE QUALIDADE: {melhoria:.1f}%\n",
        "\n",
        "MÉTODOS APLICADOS:\n",
        "1. Imputação geográfica por bairro destino\n",
        "2. Correção de valores impossíveis usando ETA (tempo estimado)\n",
        "3. Identificação de outliers com limites de negócio\n",
        "\n",
        "ESTRATÉGIA DE CORREÇÃO:\n",
        "- Tempos negativos → Substituídos pelo ETA correspondente\n",
        "- Mais realista que usar 0 ou remover registros\n",
        "- Preserva informação temporal estimada\n",
        "\n",
        "ARQUIVOS GERADOS:\n",
        "- Base_Kaiserhaus_Limpa.csv\n",
        "- relatorio_tratamento.txt\n",
        "\"\"\"\n",
        "\n",
        "with open('relatorio_tratamento.txt', 'w', encoding='utf-8') as f:\n",
        "    f.write(relatorio)\n",
        "\n",
        "print(f\"✅ Relatório salvo como 'relatorio_tratamento.txt'\")\n",
        "print(f\"\\n📋 Próximos passos:\")\n",
        "print(f\"   1. Usar 'Base_Kaiserhaus_Limpa.csv' para análises\")\n",
        "print(f\"   2. Revisar outliers identificados\")\n",
        "print(f\"   3. Aplicar análises das hipóteses\")\n",
        "print(f\"   4. Documentar decisões sobre outliers\")\n"
      ]
    }
  ],
  "metadata": {
    "kernelspec": {
      "display_name": "venv",
      "language": "python",
      "name": "python3"
    },
    "language_info": {
      "codemirror_mode": {
        "name": "ipython",
        "version": 3
      },
      "file_extension": ".py",
      "mimetype": "text/x-python",
      "name": "python",
      "nbconvert_exporter": "python",
      "pygments_lexer": "ipython3",
      "version": "3.9.10"
    }
  },
  "nbformat": 4,
  "nbformat_minor": 2
}
